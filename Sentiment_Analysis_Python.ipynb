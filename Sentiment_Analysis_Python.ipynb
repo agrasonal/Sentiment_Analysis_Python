{
 "cells": [
  {
   "cell_type": "markdown",
   "metadata": {},
   "source": [
    "# Sentiment Analysis on twitter for the topic \"immigration\""
   ]
  },
  {
   "cell_type": "markdown",
   "metadata": {},
   "source": [
    "Imported a list of positive words and converted it into a dictionary."
   ]
  },
  {
   "cell_type": "code",
   "execution_count": 23,
   "metadata": {},
   "outputs": [],
   "source": [
    "with open('Sonal-Agrawal_HW1_positive-words.txt', 'r') as positive:\n",
    "    positive_text = positive.read().split('\\n')\n",
    "    posi_dict = { positive_text[p]: p for p in range(0, len(positive_text))}"
   ]
  },
  {
   "cell_type": "markdown",
   "metadata": {},
   "source": [
    "Imported a list of negative words and converted it into a dictionary."
   ]
  },
  {
   "cell_type": "code",
   "execution_count": 24,
   "metadata": {},
   "outputs": [],
   "source": [
    "with open('Sonal-Agrawal_HW1_negative-words.txt', 'r', encoding='ISO-8859-1') as negative:\n",
    "    negative_text = negative.read().split('\\n')\n",
    "    neg_dict = { negative_text[n]: n for n in range(0, len(negative_text))}"
   ]
  },
  {
   "cell_type": "markdown",
   "metadata": {},
   "source": [
    "Prepared data for analysis"
   ]
  },
  {
   "cell_type": "code",
   "execution_count": 25,
   "metadata": {
    "scrolled": true
   },
   "outputs": [],
   "source": [
    "import re\n",
    "\n",
    "def clean_tweet(tweet):\n",
    "    return ' '.join(re.sub(\"(@[A-Za-z0-9]+)|([^0-9A-Za-z \\t])|(\\w+:\\/\\/\\S+)\", \" \", tweet).split())   \n",
    "\n",
    "with open('Sonal-Agrawal_HW1_immigration.txt', 'r') as immigration:\n",
    "    tweet_list = immigration.read().replace('RT ', '').lower().split('\\n')\n"
   ]
  },
  {
   "cell_type": "markdown",
   "metadata": {},
   "source": [
    "Analysing the data\n",
    "\n",
    "1)Analyzed every tweet by splitting it into a list(tweet_words) of words, which was then used for further analysis.\n",
    "2)Iterating over every word in the above list to check occurences of positive and negative words in order to:\n",
    "-Check which positive and negative words have been frequently used, by creating dictionaries(tweet_posi_dict & tweet_neg_dict).\n",
    "-Check total number(and percentages) of positive and negative tweets overall.\n",
    "3)Count the total count of positive words(total_posi_count) and negative words(total_neg_count) in all the tweets together. \n",
    "4)Calculated a net score, net = (total_posi_count - total_neg_count) and give a corresponding result:\n",
    "-If net>0 & percentage of positive tweets>50%, the general audience sentiment around the topic was strongly \"postive\".\n",
    "-If net<0 & percentage of negative tweets>50%, the general audience sentiment around the topic was strongly \"negative\".\n",
    "-If net=0, the general audience sentiment around the topic was \"neutral\"."
   ]
  },
  {
   "cell_type": "code",
   "execution_count": 26,
   "metadata": {},
   "outputs": [
    {
     "name": "stdout",
     "output_type": "stream",
     "text": [
      "No. of Tweets Analyzed: 8101\n",
      "\n",
      "Total Positive Word Count: 10450\n",
      "Total Negative Word Count: -13740\n",
      "\n",
      "Mostly Frequently Used 'Positive' Word: trump\n",
      "Mostly Frequently Used 'Negative' Word: illegal\n",
      "\n",
      "Conclusion:\n",
      "The general audience sentiment around 'immigration' on twitter is negative. And audience feels 'Strongly' negative about the topic.\n"
     ]
    }
   ],
   "source": [
    "#Analyzing individual tweet sentiment and overall audience sentiment around the topic.\n",
    "tweet_posi_word_count = 0\n",
    "tweet_neg_word_count = 0\n",
    "tweet_posi_dict = {}\n",
    "tweet_neg_dict = {}\n",
    "\n",
    "total_posi_count = 0\n",
    "total_neg_count = 0\n",
    "total_neutral_count = 0\n",
    "total_posi_tweet_count = 0\n",
    "total_neg_tweet_count = 0\n",
    "\n",
    "for tweet in tweet_list:\n",
    "    tweet_words = clean_tweet(tweet).split()\n",
    "    for word in tweet_words:\n",
    "        if word in posi_dict.keys():\n",
    "            total_posi_count += 1\n",
    "            tweet_posi_word_count += 1\n",
    "            if word not in tweet_posi_dict.keys():\n",
    "                tweet_posi_dict[word] = 1\n",
    "            tweet_posi_dict[word] += 1\n",
    "        elif word in neg_dict.keys():\n",
    "            total_neg_count += -1\n",
    "            tweet_neg_word_count += 1\n",
    "            if word not in tweet_neg_dict.keys():\n",
    "                tweet_neg_dict[word] = 1  \n",
    "            tweet_neg_dict[word] += 1\n",
    "        else:\n",
    "            total_neutral_count += 1\n",
    "    if tweet_posi_word_count>tweet_neg_word_count:\n",
    "        total_posi_tweet_count += 1\n",
    "    total_neg_tweet_count += 1\n",
    "\n",
    "posi_perc = float(total_posi_tweet_count/len(tweet_list))\n",
    "neg_perc = float(total_neg_tweet_count/len(tweet_list))\n",
    "\n",
    "print(\"No. of Tweets Analyzed: \"+str(len(tweet_list))+\"\\n\")\n",
    "print(\"Total Positive Word Count: \"+str(total_posi_count)+\"\\n\"+\"Total Negative Word Count: \"+str(total_neg_count)+\"\\n\")\n",
    "print(\"Mostly Frequently Used 'Positive' Word: \"+str(max(tweet_posi_dict, key=tweet_posi_dict.get)))\n",
    "print(\"Mostly Frequently Used 'Negative' Word: \"+str(max(tweet_neg_dict, key=tweet_neg_dict.get))+\"\\n\")\n",
    "\n",
    "#Analyzing the net count and printing the conclusion.\n",
    "net = total_posi_count+total_neg_count\n",
    "\n",
    "if net>0:\n",
    "    if posi_perc>0.5:\n",
    "        print(\"Conclusion:\\n\"+\"The general audience sentiment around 'immigration' on twitter is positive. And audience feels 'Strongly' positive about the topic.\")\n",
    "    else:\n",
    "        print(\"Conclusion:\\n\"+\"The general audience sentiment around 'immigration' on twitter is positive. However, the audience doesn't feel very 'Strongly' about the topic.\")  \n",
    "elif net<0:\n",
    "    if neg_perc>0.5:\n",
    "        print(\"Conclusion:\\n\"+\"The general audience sentiment around 'immigration' on twitter is negative. And audience feels 'Strongly' negative about the topic.\")\n",
    "    else:\n",
    "        print(\"Conclusion:\\n\"+\"The general audience sentiment around 'immigration' on twitter is negative. However, the audience doesn't feel very 'Strongly' about the topic.\")\n",
    "else:\n",
    "    print(\"The general audience sentiment around 'immigration' on twitter is neutral.\")\n"
   ]
  },
  {
   "cell_type": "code",
   "execution_count": null,
   "metadata": {
    "scrolled": true
   },
   "outputs": [],
   "source": []
  },
  {
   "cell_type": "code",
   "execution_count": null,
   "metadata": {},
   "outputs": [],
   "source": []
  }
 ],
 "metadata": {
  "kernelspec": {
   "display_name": "Python 3",
   "language": "python",
   "name": "python3"
  },
  "language_info": {
   "codemirror_mode": {
    "name": "ipython",
    "version": 3
   },
   "file_extension": ".py",
   "mimetype": "text/x-python",
   "name": "python",
   "nbconvert_exporter": "python",
   "pygments_lexer": "ipython3",
   "version": "3.6.5"
  }
 },
 "nbformat": 4,
 "nbformat_minor": 2
}
